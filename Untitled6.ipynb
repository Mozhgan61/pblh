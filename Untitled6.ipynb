{
  "nbformat": 4,
  "nbformat_minor": 0,
  "metadata": {
    "colab": {
      "provenance": [],
      "authorship_tag": "ABX9TyMzf69jYOy8Wxb0H5FJQuvz",
      "include_colab_link": true
    },
    "kernelspec": {
      "name": "python3",
      "display_name": "Python 3"
    },
    "language_info": {
      "name": "python"
    }
  },
  "cells": [
    {
      "cell_type": "markdown",
      "metadata": {
        "id": "view-in-github",
        "colab_type": "text"
      },
      "source": [
        "<a href=\"https://colab.research.google.com/github/Mozhgan61/pblh/blob/main/Untitled6.ipynb\" target=\"_parent\"><img src=\"https://colab.research.google.com/assets/colab-badge.svg\" alt=\"Open In Colab\"/></a>"
      ]
    },
    {
      "cell_type": "code",
      "source": [
        "!apt-get -qq install -y libarchive-dev"
      ],
      "metadata": {
        "id": "2lGZ-hAOg0q_"
      },
      "execution_count": null,
      "outputs": []
    },
    {
      "cell_type": "code",
      "source": [
        "!pip install libarchive-c"
      ],
      "metadata": {
        "colab": {
          "base_uri": "https://localhost:8080/"
        },
        "id": "B01QpytMibLC",
        "outputId": "acc165fd-3667-4874-b4ae-7ceeb8aeaad3"
      },
      "execution_count": null,
      "outputs": [
        {
          "output_type": "stream",
          "name": "stdout",
          "text": [
            "Requirement already satisfied: libarchive-c in /usr/local/lib/python3.10/dist-packages (5.1)\n"
          ]
        }
      ]
    },
    {
      "cell_type": "code",
      "source": [
        "import libarchive"
      ],
      "metadata": {
        "id": "yil_qZoiig7g"
      },
      "execution_count": null,
      "outputs": []
    },
    {
      "cell_type": "code",
      "source": [
        "from ecmwfapi import ECMWFDataServer"
      ],
      "metadata": {
        "id": "HK5vKTjJkq9E"
      },
      "execution_count": null,
      "outputs": []
    },
    {
      "cell_type": "code",
      "source": [
        "!pip install ecmwf-api-client"
      ],
      "metadata": {
        "colab": {
          "base_uri": "https://localhost:8080/"
        },
        "id": "AWYY5xsMo0S8",
        "outputId": "da11e54b-940a-4d2f-d01f-3b62100e2a5b"
      },
      "execution_count": null,
      "outputs": [
        {
          "output_type": "stream",
          "name": "stdout",
          "text": [
            "Collecting ecmwf-api-client\n",
            "  Downloading ecmwf-api-client-1.6.3.tar.gz (12 kB)\n",
            "  Preparing metadata (setup.py) ... \u001b[?25l\u001b[?25hdone\n",
            "Building wheels for collected packages: ecmwf-api-client\n",
            "  Building wheel for ecmwf-api-client (setup.py) ... \u001b[?25l\u001b[?25hdone\n",
            "  Created wheel for ecmwf-api-client: filename=ecmwf_api_client-1.6.3-py3-none-any.whl size=13515 sha256=06416753e7cf7b076d3e48f409003b0c0abdd0bf88671c860515447d3105233e\n",
            "  Stored in directory: /root/.cache/pip/wheels/16/64/8f/f0038cd123b884423739feea02cd13466b01ec8b08e5d1de93\n",
            "Successfully built ecmwf-api-client\n",
            "Installing collected packages: ecmwf-api-client\n",
            "Successfully installed ecmwf-api-client-1.6.3\n"
          ]
        }
      ]
    },
    {
      "cell_type": "code",
      "source": [
        "from ecmwfapi import ECMWFDataServer"
      ],
      "metadata": {
        "id": "x6Q-fNt8o9Ya"
      },
      "execution_count": null,
      "outputs": []
    },
    {
      "cell_type": "code",
      "source": [
        "# Your ECMWF API key\n",
        "api_key = 'cc0ba5f1-1a1e-4747-8111-2632b4fca7f2'\n"
      ],
      "metadata": {
        "id": "RTZ8MYv6pJm0"
      },
      "execution_count": null,
      "outputs": []
    },
    {
      "cell_type": "code",
      "source": [
        "# Initialize ECMWFDataServer with your API key\n",
        "server = ECMWFDataServer(url=\"https://api.ecmwf.int/v1\", key=api_key)\n"
      ],
      "metadata": {
        "id": "A0CQqMDErjZL"
      },
      "execution_count": null,
      "outputs": []
    },
    {
      "cell_type": "code",
      "source": [
        "# Define the coordinates of your station\n",
        "latitude = 41\n",
        "longitude = 50\n",
        "\n"
      ],
      "metadata": {
        "id": "nsqmHYHwr6bp"
      },
      "execution_count": null,
      "outputs": []
    },
    {
      "cell_type": "code",
      "source": [
        "# Define the years for which you want to extract data\n",
        "years = range(2018, 2020)  # Example: 2018 to 2019\n"
      ],
      "metadata": {
        "id": "t_yELv6nthuS"
      },
      "execution_count": null,
      "outputs": []
    },
    {
      "cell_type": "code",
      "source": [
        "# Loop over each year to extract daily PBLH data\n",
        "for year in years:\n",
        "    # Define the ECMWF request parameters\n",
        "    request_params = {\n",
        "        'class': 'mc',  # Atmospheric model\n",
        "        'dataset': 'macc',  # MACC reanalysis\n",
        "        'date': f\"2018-01-01/to/2019-12-31\",  # Whole year\n",
        "        'expver': 'reanalysis',  # Reanalysis data\n",
        "        'levtype': 'pl',  # Pressure level data\n",
        "        'levelist': '100',  # Pressure level 100 hPa\n",
        "        'param': '134.128',  # Parameter code for PBLH\n",
        "        'grid': f\"0.25/{50}/0.25/{41}\",  # Grid point closest to station\n",
        "        'format': 'netcdf',  # NetCDF format\n",
        "        'time': '00:00:00',  # Time of day\n",
        "        'step': '0',  # Instantaneous values\n",
        "    }\n",
        "\n"
      ],
      "metadata": {
        "id": "Ik-s2Ru7sOlT"
      },
      "execution_count": null,
      "outputs": []
    },
    {
      "cell_type": "code",
      "source": [
        "# Define the output file path\n",
        "output_file = f'PBLH_{year}.nc'\n"
      ],
      "metadata": {
        "id": "vXIJv6jVuW8G"
      },
      "execution_count": null,
      "outputs": []
    },
    {
      "cell_type": "code",
      "source": [
        "server.retrieve"
      ],
      "metadata": {
        "id": "bEuNkget3oPz"
      },
      "execution_count": null,
      "outputs": []
    },
    {
      "cell_type": "code",
      "source": [],
      "metadata": {
        "id": "eRU9De7C3nv6"
      },
      "execution_count": null,
      "outputs": []
    },
    {
      "cell_type": "code",
      "source": [
        "# Download the data\n",
        "server.retrieve(output_file)\n"
      ],
      "metadata": {
        "colab": {
          "base_uri": "https://localhost:8080/",
          "height": 287
        },
        "id": "c5vk5gnrvhiT",
        "outputId": "42422993-0794-47e8-c45f-8444c9dad671"
      },
      "execution_count": null,
      "outputs": [
        {
          "output_type": "error",
          "ename": "AttributeError",
          "evalue": "'str' object has no attribute 'get'",
          "traceback": [
            "\u001b[0;31m---------------------------------------------------------------------------\u001b[0m",
            "\u001b[0;31mAttributeError\u001b[0m                            Traceback (most recent call last)",
            "\u001b[0;32m<ipython-input-52-ae2e1d09a901>\u001b[0m in \u001b[0;36m<cell line: 2>\u001b[0;34m()\u001b[0m\n\u001b[1;32m      1\u001b[0m \u001b[0;31m# Download the data\u001b[0m\u001b[0;34m\u001b[0m\u001b[0;34m\u001b[0m\u001b[0m\n\u001b[0;32m----> 2\u001b[0;31m \u001b[0mserver\u001b[0m\u001b[0;34m.\u001b[0m\u001b[0mretrieve\u001b[0m\u001b[0;34m(\u001b[0m\u001b[0moutput_file\u001b[0m\u001b[0;34m)\u001b[0m\u001b[0;34m\u001b[0m\u001b[0;34m\u001b[0m\u001b[0m\n\u001b[0m",
            "\u001b[0;32m/usr/local/lib/python3.10/dist-packages/ecmwfapi/api.py\u001b[0m in \u001b[0;36mretrieve\u001b[0;34m(self, req)\u001b[0m\n\u001b[1;32m    595\u001b[0m \u001b[0;34m\u001b[0m\u001b[0m\n\u001b[1;32m    596\u001b[0m     \u001b[0;32mdef\u001b[0m \u001b[0mretrieve\u001b[0m\u001b[0;34m(\u001b[0m\u001b[0mself\u001b[0m\u001b[0;34m,\u001b[0m \u001b[0mreq\u001b[0m\u001b[0;34m)\u001b[0m\u001b[0;34m:\u001b[0m\u001b[0;34m\u001b[0m\u001b[0;34m\u001b[0m\u001b[0m\n\u001b[0;32m--> 597\u001b[0;31m         \u001b[0mtarget\u001b[0m \u001b[0;34m=\u001b[0m \u001b[0mreq\u001b[0m\u001b[0;34m.\u001b[0m\u001b[0mget\u001b[0m\u001b[0;34m(\u001b[0m\u001b[0;34m\"target\"\u001b[0m\u001b[0;34m)\u001b[0m\u001b[0;34m\u001b[0m\u001b[0;34m\u001b[0m\u001b[0m\n\u001b[0m\u001b[1;32m    598\u001b[0m         \u001b[0mdataset\u001b[0m \u001b[0;34m=\u001b[0m \u001b[0mreq\u001b[0m\u001b[0;34m.\u001b[0m\u001b[0mget\u001b[0m\u001b[0;34m(\u001b[0m\u001b[0;34m\"dataset\"\u001b[0m\u001b[0;34m)\u001b[0m\u001b[0;34m\u001b[0m\u001b[0;34m\u001b[0m\u001b[0m\n\u001b[1;32m    599\u001b[0m         c = APIRequest(\n",
            "\u001b[0;31mAttributeError\u001b[0m: 'str' object has no attribute 'get'"
          ]
        }
      ]
    }
  ]
}